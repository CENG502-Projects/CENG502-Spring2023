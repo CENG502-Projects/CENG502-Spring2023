{
  "nbformat": 4,
  "nbformat_minor": 0,
  "metadata": {
    "colab": {
      "provenance": [],
      "machine_shape": "hm",
      "gpuType": "T4"
    },
    "kernelspec": {
      "name": "python3",
      "display_name": "Python 3"
    },
    "language_info": {
      "name": "python"
    },
    "accelerator": "GPU"
  },
  "cells": [
    {
      "cell_type": "markdown",
      "source": [
        "Importing libraries"
      ],
      "metadata": {
        "id": "qT4o0QFGW0pn"
      }
    },
    {
      "cell_type": "code",
      "source": [
        "import numpy as np\n",
        "from datetime import datetime\n",
        "from itertools import groupby\n",
        "\n",
        "import os\n",
        "# os.environ[\"CUDA_DEVICE_ORDER\"]=\"PCI_BUS_ID\"   # see issue #152\n",
        "# os.environ[\"CUDA_VISIBLE_DEVICES\"]=\"2\"\n",
        "import math\n",
        "import torch as T\n",
        "from torch.autograd import Variable\n",
        "import numpy as np\n",
        "import pdb\n",
        "import copy\n",
        "import time\n",
        "import torch\n",
        "import torch.nn as nn\n",
        "import torch.nn.functional as F\n",
        "from torch.utils.data import DataLoader\n",
        "from torchvision.transforms import ToTensor\n",
        "from torchvision import datasets, transforms\n",
        "\n",
        "import matplotlib.pyplot as plt\n",
        "!pip install torchsummaryX --quiet\n",
        "from torchsummaryX import summary as summaryX\n",
        "from torchsummary import summary\n",
        "# check device\n",
        "DEVICE = 'cuda' if torch.cuda.is_available() else 'cpu'"
      ],
      "metadata": {
        "id": "VGzgmlPW9RWy"
      },
      "execution_count": 46,
      "outputs": []
    },
    {
      "cell_type": "markdown",
      "source": [
        "Preparing Seq_MNIST data set alpha=9, ends=5 as paper"
      ],
      "metadata": {
        "id": "nG-LH7fuW8HR"
      }
    },
    {
      "cell_type": "code",
      "execution_count": 21,
      "metadata": {
        "id": "oOuN_h0_4gSG"
      },
      "outputs": [],
      "source": [
        "from torchvision import datasets\n",
        "from torchvision.transforms import ToTensor\n",
        "train_data = datasets.MNIST(\n",
        "    root = 'data',\n",
        "    train = True,\n",
        "    transform = transforms.Compose([\n",
        "                                                  transforms.Resize((32,32)),\n",
        "                                                  transforms.ToTensor(),\n",
        "                                                  transforms.Normalize(mean = (0.1307,), std = (0.3081,))]),\n",
        "\n",
        "    download = True,\n",
        ")\n",
        "test_data = datasets.MNIST(\n",
        "    root = 'data',\n",
        "    train = False,\n",
        "    transform = transforms.Compose([\n",
        "                                                  transforms.Resize((32,32)),\n",
        "                                                  transforms.ToTensor(),\n",
        "                                                  transforms.Normalize(mean = (0.1307,), std = (0.3081,))])\n",
        "\n",
        ")\n",
        "\n",
        "def prepare_data(data):\n",
        "  seq_data=[]\n",
        "  seq_label=[]\n",
        "  k=1\n",
        "  temp_data=[]\n",
        "  temp_label=[]\n",
        "  ends=5\n",
        "  alpha=9\n",
        "  total=3*alpha+2*ends\n",
        "  for image,label in data:  # example is `{'image': tf.Tensor, 'label': tf.Tensor}`\n",
        "\n",
        "    temp_label.append(label)\n",
        "    if k%4==1:\n",
        "      for i in range(1,alpha+1,2):\n",
        "        temp_data.append(image*0.1*(i))\n",
        "\n",
        "      temp_data.append(image)\n",
        "\n",
        "      for i in range(alpha):\n",
        "        temp_data.append(image*0.1*(alpha-i))\n",
        "\n",
        "    elif k%4==0:\n",
        "      temp_data.append(image)\n",
        "      l = len(temp_data)\n",
        "      for i in range(alpha):\n",
        "        temp_data[l-alpha+i]=temp_data[l-alpha+i]+image*0.1*(i)\n",
        "\n",
        "        if (i+1)%2==1:\n",
        "          temp_data.append(image*0.1*(alpha-i))\n",
        "      seq_data.append(torch.cat(temp_data, dim=0).reshape((41,1,32,32)))\n",
        "      seq_label.append(torch.tensor(temp_label).reshape((4,1)))\n",
        "      temp_data=[]\n",
        "      temp_label=[]\n",
        "    else:\n",
        "      l = len(temp_data)\n",
        "      temp_data.append(image)\n",
        "      for i in range(alpha):\n",
        "        temp_data[l-alpha+i]=temp_data[l-alpha+i]+image*0.1*(i)\n",
        "        temp_data.append(image*0.1*(alpha-i))\n",
        "    k=k+1\n",
        "  return torch.cat(seq_data, dim=1), torch.cat(seq_label, dim=1)\n",
        "\n",
        "train_seq_image, train_seq_label = prepare_data(train_data)\n",
        "test_seq_image, test_seq_label = prepare_data(test_data)\n"
      ]
    },
    {
      "cell_type": "code",
      "source": [
        "train_seq_image[:,0,:,:].shape"
      ],
      "metadata": {
        "colab": {
          "base_uri": "https://localhost:8080/"
        },
        "id": "9nQsdNfSXM6S",
        "outputId": "2e370459-38e5-4798-e51f-30e37d08e2c0"
      },
      "execution_count": 26,
      "outputs": [
        {
          "output_type": "execute_result",
          "data": {
            "text/plain": [
              "torch.Size([41, 32, 32])"
            ]
          },
          "metadata": {},
          "execution_count": 26
        }
      ]
    },
    {
      "cell_type": "code",
      "source": [
        "c=1\n",
        "for i in train_seq_image[:,0,:,:]:\n",
        "\n",
        "  plt.subplot(5, 10, c)\n",
        "  plt.imshow(i.reshape(32,32), cmap='gray')\n",
        "  c=c+1\n",
        "plt.show()"
      ],
      "metadata": {
        "colab": {
          "base_uri": "https://localhost:8080/",
          "height": 413
        },
        "id": "VU8Vh19PCFxL",
        "outputId": "b23fd012-6298-4166-a7b6-79a7919fd771"
      },
      "execution_count": 24,
      "outputs": [
        {
          "output_type": "display_data",
          "data": {
            "text/plain": [
              "<Figure size 640x480 with 41 Axes>"
            ],
            "image/png": "[encoded data removed]"
          },
          "metadata": {}
        }
      ]
    },
    {
      "cell_type": "markdown",
      "source": [
        "LeNet++ implementation from Wen, Y., Zhang, K., Li, Z., Qiao, Y.: A discriminative feature learning approach for\n",
        "deep face recognition. In: Proceedings of the European Conference on Computer\n",
        "Vision. pp. 499–515. Springer (2016)\n"
      ],
      "metadata": {
        "id": "eFxcf-E7YGr3"
      }
    },
    {
      "cell_type": "code",
      "source": [
        "class LeNetpp(nn.Module):\n",
        "    def __init__(self):\n",
        "        super(LeNetpp, self).__init__()\n",
        "        self.layer1 = nn.Sequential(\n",
        "            nn.Conv2d(1, 32, kernel_size=5, stride=1, padding=2),\n",
        "            nn.BatchNorm2d(32),\n",
        "            nn.PReLU(),\n",
        "            nn.Conv2d(32, 32, kernel_size=5, stride=1, padding=2),\n",
        "            nn.BatchNorm2d(32),\n",
        "            nn.PReLU(),\n",
        "            nn.MaxPool2d(kernel_size = 2, stride = 2))\n",
        "\n",
        "        self.layer2 = nn.Sequential(\n",
        "            nn.Conv2d(32, 64, kernel_size=5, stride=1, padding=2),\n",
        "            nn.BatchNorm2d(64),\n",
        "            nn.PReLU(),\n",
        "            nn.Conv2d(64, 64, kernel_size=5, stride=1, padding=2),\n",
        "            nn.BatchNorm2d(64),\n",
        "            nn.PReLU(),\n",
        "            nn.MaxPool2d(kernel_size = 2, stride = 2))\n",
        "        self.layer3 = nn.Sequential(\n",
        "            nn.Conv2d(64, 128, kernel_size=5, stride=1, padding=2),\n",
        "            nn.BatchNorm2d(128),\n",
        "            nn.PReLU(),\n",
        "            nn.Conv2d(128, 128, kernel_size=5, stride=1, padding=2),\n",
        "            nn.BatchNorm2d(128),\n",
        "            nn.PReLU(),\n",
        "            nn.MaxPool2d(kernel_size = 2, stride = 2),\n",
        "            nn.Flatten())\n",
        "\n",
        "        self.fc = nn.Linear(2048, 3)\n",
        "        self.relu = nn.PReLU()\n",
        "        self.fc2 = nn.Linear(3,11)\n",
        "        self.softmax= nn.Softmax(dim=1)\n",
        "\n",
        "\n",
        "    def forward(self, x):\n",
        "        out = self.layer1(x)\n",
        "        out = self.layer2(out)\n",
        "        out = self.layer3(out)\n",
        "        out = self.fc(out)\n",
        "        v = self.relu(out)\n",
        "        f = self.fc2(v)\n",
        "        out = self.softmax(f)\n",
        "\n",
        "\n",
        "        return out, v,f"
      ],
      "metadata": {
        "id": "r8YXqFY56Pbs"
      },
      "execution_count": 66,
      "outputs": []
    },
    {
      "cell_type": "code",
      "source": [],
      "metadata": {
        "id": "vxeMN6IigMbI"
      },
      "execution_count": null,
      "outputs": []
    },
    {
      "cell_type": "code",
      "source": [
        "model = LeNetpp()\n",
        "\n",
        "x = torch.randn(41,1,32,32)\n",
        "output,_,f = model(x)\n",
        "print(model)\n",
        "print(\"output.shape : \",output.shape)"
      ],
      "metadata": {
        "colab": {
          "base_uri": "https://localhost:8080/"
        },
        "id": "NDrjL0eEHAO_",
        "outputId": "9f9196c6-091b-4518-f12d-bab62ef85475"
      },
      "execution_count": 56,
      "outputs": [
        {
          "output_type": "stream",
          "name": "stdout",
          "text": [
            "output.shape :  torch.Size([41, 32, 16, 16])\n",
            "output.shape :  torch.Size([41, 64, 8, 8])\n",
            "output.shape :  torch.Size([41, 2048])\n",
            "output.shape :  torch.Size([41, 3])\n",
            "output.shape :  torch.Size([41, 11])\n",
            "LeNetpp(\n",
            "  (layer1): Sequential(\n",
            "    (0): Conv2d(1, 32, kernel_size=(5, 5), stride=(1, 1), padding=(2, 2))\n",
            "    (1): BatchNorm2d(32, eps=1e-05, momentum=0.1, affine=True, track_running_stats=True)\n",
            "    (2): PReLU(num_parameters=1)\n",
            "    (3): Conv2d(32, 32, kernel_size=(5, 5), stride=(1, 1), padding=(2, 2))\n",
            "    (4): BatchNorm2d(32, eps=1e-05, momentum=0.1, affine=True, track_running_stats=True)\n",
            "    (5): PReLU(num_parameters=1)\n",
            "    (6): MaxPool2d(kernel_size=2, stride=2, padding=0, dilation=1, ceil_mode=False)\n",
            "  )\n",
            "  (layer2): Sequential(\n",
            "    (0): Conv2d(32, 64, kernel_size=(5, 5), stride=(1, 1), padding=(2, 2))\n",
            "    (1): BatchNorm2d(64, eps=1e-05, momentum=0.1, affine=True, track_running_stats=True)\n",
            "    (2): PReLU(num_parameters=1)\n",
            "    (3): Conv2d(64, 64, kernel_size=(5, 5), stride=(1, 1), padding=(2, 2))\n",
            "    (4): BatchNorm2d(64, eps=1e-05, momentum=0.1, affine=True, track_running_stats=True)\n",
            "    (5): PReLU(num_parameters=1)\n",
            "    (6): MaxPool2d(kernel_size=2, stride=2, padding=0, dilation=1, ceil_mode=False)\n",
            "  )\n",
            "  (layer3): Sequential(\n",
            "    (0): Conv2d(64, 128, kernel_size=(5, 5), stride=(1, 1), padding=(2, 2))\n",
            "    (1): BatchNorm2d(128, eps=1e-05, momentum=0.1, affine=True, track_running_stats=True)\n",
            "    (2): PReLU(num_parameters=1)\n",
            "    (3): Conv2d(128, 128, kernel_size=(5, 5), stride=(1, 1), padding=(2, 2))\n",
            "    (4): BatchNorm2d(128, eps=1e-05, momentum=0.1, affine=True, track_running_stats=True)\n",
            "    (5): PReLU(num_parameters=1)\n",
            "    (6): MaxPool2d(kernel_size=2, stride=2, padding=0, dilation=1, ceil_mode=False)\n",
            "    (7): Flatten(start_dim=1, end_dim=-1)\n",
            "  )\n",
            "  (fc): Linear(in_features=2048, out_features=3, bias=True)\n",
            "  (relu): PReLU(num_parameters=1)\n",
            "  (fc2): Linear(in_features=3, out_features=11, bias=True)\n",
            "  (softmax): Softmax(dim=1)\n",
            ")\n",
            "output.shape :  torch.Size([41, 11])\n"
          ]
        }
      ]
    },
    {
      "cell_type": "code",
      "source": [
        "model = LeNetpp().to(DEVICE)\n",
        "criterion = nn.CTCLoss(blank=10, reduction='mean', zero_infinity=True)\n",
        "optimizer = torch.optim.Adagrad(model.parameters(), lr=0.01)"
      ],
      "metadata": {
        "id": "VnvVasIXUA_W"
      },
      "execution_count": 67,
      "outputs": []
    },
    {
      "cell_type": "code",
      "source": [
        "epochs=10000\n",
        "for _ in range(epochs):\n",
        "    # ============================================ TRAINING =====================================================\n",
        "    train_correct = 0\n",
        "    train_total = 0\n",
        "    for i in range(len(train_seq_image)):\n",
        "        seq = train_seq_image[:,i,:,:].reshape(41,1,32,32)\n",
        "        label = train_seq_label[:,i].reshape((1,4))\n",
        "        output, _, _ = model(seq.cuda())\n",
        "\n",
        "        optimizer.zero_grad()\n",
        "        y_pred = model(seq.cuda())\n",
        "        input_lengths = torch.full(size=(1,), fill_value=41, dtype=torch.long)\n",
        "        target_lengths = torch.randint(low=1, high=41, size=(1,), dtype=torch.long)\n",
        "        loss = criterion(output, label, input_lengths, target_lengths)\n",
        "        loss.backward()\n",
        "        optimizer.step()\n",
        "        _, max_index = torch.max(output, dim=1)  # max_index.shape == torch.Size([32, 64])\n",
        "\n",
        "        raw_prediction = list(max_index.detach().cpu().numpy())  # len(raw_prediction) == 32\n",
        "        prediction = torch.IntTensor([c for c, _ in groupby(raw_prediction) if c != 10])\n",
        "        if len(prediction) == len(label) and torch.all(prediction.eq(label)):\n",
        "            train_correct += 1\n",
        "        train_total += 1\n",
        "    print('TRAINING. Correct: ', train_correct, '/', train_total, '=', train_correct / train_total,\" loss= \",loss)\n"
      ],
      "metadata": {
        "colab": {
          "base_uri": "https://localhost:8080/",
          "height": 380
        },
        "id": "awqMhPIBLboA",
        "outputId": "42724c5b-9798-4449-a31e-74ebc0a9b6b1"
      },
      "execution_count": 88,
      "outputs": [
        {
          "output_type": "error",
          "ename": "RuntimeError",
          "evalue": "ignored",
          "traceback": [
            "\u001b[0;31m---------------------------------------------------------------------------\u001b[0m",
            "\u001b[0;31mRuntimeError\u001b[0m                              Traceback (most recent call last)",
            "\u001b[0;32m<ipython-input-88-c981741ded74>\u001b[0m in \u001b[0;36m<cell line: 2>\u001b[0;34m()\u001b[0m\n\u001b[1;32m     13\u001b[0m         \u001b[0minput_lengths\u001b[0m \u001b[0;34m=\u001b[0m \u001b[0mtorch\u001b[0m\u001b[0;34m.\u001b[0m\u001b[0mfull\u001b[0m\u001b[0;34m(\u001b[0m\u001b[0msize\u001b[0m\u001b[0;34m=\u001b[0m\u001b[0;34m(\u001b[0m\u001b[0;36m1\u001b[0m\u001b[0;34m,\u001b[0m\u001b[0;34m)\u001b[0m\u001b[0;34m,\u001b[0m \u001b[0mfill_value\u001b[0m\u001b[0;34m=\u001b[0m\u001b[0;36m41\u001b[0m\u001b[0;34m,\u001b[0m \u001b[0mdtype\u001b[0m\u001b[0;34m=\u001b[0m\u001b[0mtorch\u001b[0m\u001b[0;34m.\u001b[0m\u001b[0mlong\u001b[0m\u001b[0;34m)\u001b[0m\u001b[0;34m\u001b[0m\u001b[0;34m\u001b[0m\u001b[0m\n\u001b[1;32m     14\u001b[0m         \u001b[0mtarget_lengths\u001b[0m \u001b[0;34m=\u001b[0m \u001b[0mtorch\u001b[0m\u001b[0;34m.\u001b[0m\u001b[0mrandint\u001b[0m\u001b[0;34m(\u001b[0m\u001b[0mlow\u001b[0m\u001b[0;34m=\u001b[0m\u001b[0;36m1\u001b[0m\u001b[0;34m,\u001b[0m \u001b[0mhigh\u001b[0m\u001b[0;34m=\u001b[0m\u001b[0;36m41\u001b[0m\u001b[0;34m,\u001b[0m \u001b[0msize\u001b[0m\u001b[0;34m=\u001b[0m\u001b[0;34m(\u001b[0m\u001b[0;36m1\u001b[0m\u001b[0;34m,\u001b[0m\u001b[0;34m)\u001b[0m\u001b[0;34m,\u001b[0m \u001b[0mdtype\u001b[0m\u001b[0;34m=\u001b[0m\u001b[0mtorch\u001b[0m\u001b[0;34m.\u001b[0m\u001b[0mlong\u001b[0m\u001b[0;34m)\u001b[0m\u001b[0;34m\u001b[0m\u001b[0;34m\u001b[0m\u001b[0m\n\u001b[0;32m---> 15\u001b[0;31m         \u001b[0mloss\u001b[0m \u001b[0;34m=\u001b[0m \u001b[0mcriterion\u001b[0m\u001b[0;34m(\u001b[0m\u001b[0moutput\u001b[0m\u001b[0;34m,\u001b[0m \u001b[0mlabel\u001b[0m\u001b[0;34m,\u001b[0m \u001b[0minput_lengths\u001b[0m\u001b[0;34m,\u001b[0m \u001b[0mtarget_lengths\u001b[0m\u001b[0;34m)\u001b[0m\u001b[0;34m\u001b[0m\u001b[0;34m\u001b[0m\u001b[0m\n\u001b[0m\u001b[1;32m     16\u001b[0m         \u001b[0mloss\u001b[0m\u001b[0;34m.\u001b[0m\u001b[0mbackward\u001b[0m\u001b[0;34m(\u001b[0m\u001b[0;34m)\u001b[0m\u001b[0;34m\u001b[0m\u001b[0;34m\u001b[0m\u001b[0m\n\u001b[1;32m     17\u001b[0m         \u001b[0moptimizer\u001b[0m\u001b[0;34m.\u001b[0m\u001b[0mstep\u001b[0m\u001b[0;34m(\u001b[0m\u001b[0;34m)\u001b[0m\u001b[0;34m\u001b[0m\u001b[0;34m\u001b[0m\u001b[0m\n",
            "\u001b[0;32m/usr/local/lib/python3.10/dist-packages/torch/nn/modules/module.py\u001b[0m in \u001b[0;36m_call_impl\u001b[0;34m(self, *args, **kwargs)\u001b[0m\n\u001b[1;32m   1499\u001b[0m                 \u001b[0;32mor\u001b[0m \u001b[0m_global_backward_pre_hooks\u001b[0m \u001b[0;32mor\u001b[0m \u001b[0m_global_backward_hooks\u001b[0m\u001b[0;34m\u001b[0m\u001b[0;34m\u001b[0m\u001b[0m\n\u001b[1;32m   1500\u001b[0m                 or _global_forward_hooks or _global_forward_pre_hooks):\n\u001b[0;32m-> 1501\u001b[0;31m             \u001b[0;32mreturn\u001b[0m \u001b[0mforward_call\u001b[0m\u001b[0;34m(\u001b[0m\u001b[0;34m*\u001b[0m\u001b[0margs\u001b[0m\u001b[0;34m,\u001b[0m \u001b[0;34m**\u001b[0m\u001b[0mkwargs\u001b[0m\u001b[0;34m)\u001b[0m\u001b[0;34m\u001b[0m\u001b[0;34m\u001b[0m\u001b[0m\n\u001b[0m\u001b[1;32m   1502\u001b[0m         \u001b[0;31m# Do not call functions when jit is used\u001b[0m\u001b[0;34m\u001b[0m\u001b[0;34m\u001b[0m\u001b[0m\n\u001b[1;32m   1503\u001b[0m         \u001b[0mfull_backward_hooks\u001b[0m\u001b[0;34m,\u001b[0m \u001b[0mnon_full_backward_hooks\u001b[0m \u001b[0;34m=\u001b[0m \u001b[0;34m[\u001b[0m\u001b[0;34m]\u001b[0m\u001b[0;34m,\u001b[0m \u001b[0;34m[\u001b[0m\u001b[0;34m]\u001b[0m\u001b[0;34m\u001b[0m\u001b[0;34m\u001b[0m\u001b[0m\n",
            "\u001b[0;32m/usr/local/lib/python3.10/dist-packages/torch/nn/modules/loss.py\u001b[0m in \u001b[0;36mforward\u001b[0;34m(self, log_probs, targets, input_lengths, target_lengths)\u001b[0m\n\u001b[1;32m   1754\u001b[0m \u001b[0;34m\u001b[0m\u001b[0m\n\u001b[1;32m   1755\u001b[0m     \u001b[0;32mdef\u001b[0m \u001b[0mforward\u001b[0m\u001b[0;34m(\u001b[0m\u001b[0mself\u001b[0m\u001b[0;34m,\u001b[0m \u001b[0mlog_probs\u001b[0m\u001b[0;34m:\u001b[0m \u001b[0mTensor\u001b[0m\u001b[0;34m,\u001b[0m \u001b[0mtargets\u001b[0m\u001b[0;34m:\u001b[0m \u001b[0mTensor\u001b[0m\u001b[0;34m,\u001b[0m \u001b[0minput_lengths\u001b[0m\u001b[0;34m:\u001b[0m \u001b[0mTensor\u001b[0m\u001b[0;34m,\u001b[0m \u001b[0mtarget_lengths\u001b[0m\u001b[0;34m:\u001b[0m \u001b[0mTensor\u001b[0m\u001b[0;34m)\u001b[0m \u001b[0;34m->\u001b[0m \u001b[0mTensor\u001b[0m\u001b[0;34m:\u001b[0m\u001b[0;34m\u001b[0m\u001b[0;34m\u001b[0m\u001b[0m\n\u001b[0;32m-> 1756\u001b[0;31m         return F.ctc_loss(log_probs, targets, input_lengths, target_lengths, self.blank, self.reduction,\n\u001b[0m\u001b[1;32m   1757\u001b[0m                           self.zero_infinity)\n\u001b[1;32m   1758\u001b[0m \u001b[0;34m\u001b[0m\u001b[0m\n",
            "\u001b[0;32m/usr/local/lib/python3.10/dist-packages/torch/nn/functional.py\u001b[0m in \u001b[0;36mctc_loss\u001b[0;34m(log_probs, targets, input_lengths, target_lengths, blank, reduction, zero_infinity)\u001b[0m\n\u001b[1;32m   2629\u001b[0m             \u001b[0mblank\u001b[0m\u001b[0;34m=\u001b[0m\u001b[0mblank\u001b[0m\u001b[0;34m,\u001b[0m \u001b[0mreduction\u001b[0m\u001b[0;34m=\u001b[0m\u001b[0mreduction\u001b[0m\u001b[0;34m,\u001b[0m \u001b[0mzero_infinity\u001b[0m\u001b[0;34m=\u001b[0m\u001b[0mzero_infinity\u001b[0m\u001b[0;34m\u001b[0m\u001b[0;34m\u001b[0m\u001b[0m\n\u001b[1;32m   2630\u001b[0m         )\n\u001b[0;32m-> 2631\u001b[0;31m     return torch.ctc_loss(\n\u001b[0m\u001b[1;32m   2632\u001b[0m         \u001b[0mlog_probs\u001b[0m\u001b[0;34m,\u001b[0m \u001b[0mtargets\u001b[0m\u001b[0;34m,\u001b[0m \u001b[0minput_lengths\u001b[0m\u001b[0;34m,\u001b[0m \u001b[0mtarget_lengths\u001b[0m\u001b[0;34m,\u001b[0m \u001b[0mblank\u001b[0m\u001b[0;34m,\u001b[0m \u001b[0m_Reduction\u001b[0m\u001b[0;34m.\u001b[0m\u001b[0mget_enum\u001b[0m\u001b[0;34m(\u001b[0m\u001b[0mreduction\u001b[0m\u001b[0;34m)\u001b[0m\u001b[0;34m,\u001b[0m \u001b[0mzero_infinity\u001b[0m\u001b[0;34m\u001b[0m\u001b[0;34m\u001b[0m\u001b[0m\n\u001b[1;32m   2633\u001b[0m     )\n",
            "\u001b[0;31mRuntimeError\u001b[0m: Expected tensor to have size at least 40 at dimension 1, but got size 4 for argument #2 'targets' (while checking arguments for ctc_loss_gpu)"
          ]
        }
      ]
    },
    {
      "cell_type": "code",
      "source": [
        "output"
      ],
      "metadata": {
        "id": "sLYZ2EqgiwB8"
      },
      "execution_count": null,
      "outputs": []
    },
    {
      "cell_type": "code",
      "source": [],
      "metadata": {
        "id": "pzZPWfb7h6lL"
      },
      "execution_count": null,
      "outputs": []
    },
    {
      "cell_type": "code",
      "source": [],
      "metadata": {
        "id": "Tc845mlLivQb"
      },
      "execution_count": null,
      "outputs": []
    },
    {
      "cell_type": "code",
      "source": [],
      "metadata": {
        "colab": {
          "base_uri": "https://localhost:8080/"
        },
        "id": "PFSGl8SDZT-r",
        "outputId": "2d65cc9a-90c6-4955-901b-4c5b0c4cb7ad"
      },
      "execution_count": 69,
      "outputs": [
        {
          "output_type": "execute_result",
          "data": {
            "text/plain": [
              "tensor([2], dtype=torch.int32)"
            ]
          },
          "metadata": {},
          "execution_count": 69
        }
      ]
    },
    {
      "cell_type": "markdown",
      "source": [
        "Common parts of CTC and Radial CTC loss implemented using https://ogunlao.github.io/blog/2020/07/17/breaking-down-ctc-loss.html explanation"
      ],
      "metadata": {
        "id": "SH7RSOGOYqad"
      }
    },
    {
      "cell_type": "code",
      "source": [
        "def ctc_loss_base(pred, token):\n",
        "    '''\n",
        "    :param pred: (Time, batch, voca_size+1)\n",
        "    :param pred_len: (batch)\n",
        "    :param token: (batch, U)\n",
        "    :param token_len: (batch)\n",
        "    '''\n",
        "    Time, batch, L= pred.size(0), pred.size(1), pred.size(2)\n",
        "    U = token.size(1)\n",
        "\n",
        "    pred_token=pred[:,:,0]\n",
        "\n",
        "    for i in range(2*U):\n",
        "\n",
        "      if i%2==1:\n",
        "        pred_token.append(pred[:,:,0])\n",
        "      else:\n",
        "        pred_token.append(pred[:,token[:,int(i/2)]])\n",
        "    alpha=np.zeros(pred.shape)\n",
        "\n",
        "    for t in range(Time):\n",
        "      for s in range(2*U+1):\n",
        "        if s==0 and t==0:\n",
        "          alpha[0,:,0]=pred_token[0,:,0]\n",
        "        elif s==1 and t==0:\n",
        "          alpha[0,:,1]=pred_token[0,:,1]\n",
        "        else:\n",
        "          if s %2==0:\n",
        "            if t>0:\n",
        "              if s>0:\n",
        "                alpha[t,:,s] = (alpha[t-1,:,s]+ alpha[t-1,:,s-1])*pred_token[t,:,s]\n",
        "              else:\n",
        "                alpha[t,:,s] = (alpha[t-1,:,s])*pred_token[t,:,s]\n",
        "          else:\n",
        "            if s>2\n",
        "              if t>1:\n",
        "                mask = token[:,int((s-1)/2)]==token[:,int((s-3)/2)]\n",
        "                alpha[t,mask,s] = (alpha[t-1,mask,s]+ alpha[t-1,mask,s-1])*pred_token[t,mask,s]\n",
        "                alpha[t,~mask,s] = (alpha[t-1,~mask,s]+alpha[t-1,~mask,s-1]+alpha[t-2,~mask,s-2])*pred_token[t,~mask,s]\n",
        "              elif t>0:\n",
        "                alpha[t,:,s] = (alpha[t-1,:,s]+alpha[t-1,:,s-1])*pred_token[t,:,s]\n",
        "\n",
        "            else:\n",
        "\n",
        "              if t<1:\n",
        "                alpha[t,:,s] = 0\n",
        "              elif s<1:\n",
        "                alpha[t,:,s] = (alpha[t-1,:,s])*pred_token[t,:,s]\n",
        "              elif t<2 or s<2:\n",
        "                alpha[t,:,s] = (alpha[t-1,:,s]+alpha[t-1,:,s-1])*pred_token[t,:,s]\n",
        "              else:\n",
        "                alpha[t,:,s] = (alpha[t-1,:,s]+alpha[t-1,:,s-1]+alpha[t-2,:,s-2])*pred_token[t,:,s]\n",
        "\n",
        "    beta = np.zeros(pred.shape)\n",
        "    for tr in range(Time):\n",
        "      for sr in range(2*U+1):\n",
        "        t=Time-1-tr\n",
        "        s=2*U-sr\n",
        "        if s==2*U and t==Time-1:\n",
        "          beta[s,:,t]=1\n",
        "        elif s==2*U-1 and t==Time-1:\n",
        "          beta[s,:,t]=1\n",
        "        else:\n",
        "          if s %2==0:\n",
        "            if t<Time-1:\n",
        "              if s<2*U:\n",
        "                beta[t,:,s] = (beta[t+1,:,s]*pred_token[t,:,s]+ beta[t+1,:,s+1]*pred_token[t,:,s+1])\n",
        "              else:\n",
        "                beta[t,:,s] = (beta[t+1,:,s])*pred_token[t,:,s]\n",
        "          else:\n",
        "            if s<2*U-1 and t<Time-2:\n",
        "\n",
        "              mask = token[:,int((s-1)/2)]==token[:,int((s+1)/2)]\n",
        "              beta[t,mask,s] = (beta[t+1,mask,s]+ beta[t+1,mask,s+1])*pred_token[t,mask,s]\n",
        "              beta[t,~mask,s] = (beta[t+1,~mask,s]+beta[t+1,~mask,s+1]+beta[t+2,~mask,s+2])*pred_token[t,~mask,s]\n",
        "            else:\n",
        "              if  t<Time-1:\n",
        "                if s<2*U:\n",
        "                  beta[t,:,s] = (beta[t+1,:,s]*pred_token[t,:,s]+ beta[t+1,:,s+1]*pred_token[t,:,s+1])\n",
        "                else:\n",
        "                  beta[t,:,s] = (beta[t+1,:,s])*pred_token[t,:,s]\n",
        "\n",
        "    gamma=beta*alpha/pred_token\n",
        "\n",
        "    return gamma,pred_token"
      ],
      "metadata": {
        "id": "SJlHIxvHTPKw"
      },
      "execution_count": null,
      "outputs": []
    },
    {
      "cell_type": "markdown",
      "source": [
        "CTC loss function"
      ],
      "metadata": {
        "id": "MYAqaI8TZEDz"
      }
    },
    {
      "cell_type": "code",
      "source": [
        "def ctc_loss(pred, token, beta, lamda1,lamda2,model):\n",
        "  gamma,_,_=ctc_loss_base(pred,token)\n",
        "  p_seq= np.sum(gamma,axis=2)\n",
        "  loss=np.sum(-math.log(p_seq),axis=0)"
      ],
      "metadata": {
        "id": "ooneS9dCLJvz"
      },
      "execution_count": null,
      "outputs": []
    },
    {
      "cell_type": "markdown",
      "source": [
        "\n",
        "RadialCTC loss function from the paper"
      ],
      "metadata": {
        "id": "2W4iQTeEZPPw"
      }
    },
    {
      "cell_type": "code",
      "source": [
        "def radialctc_loss(pred, token,n,T,beta,lamda1,lamda2,model):\n",
        "  gamma,pred_token,f=ctc_loss_base(pred,token)\n",
        "  Time, batch, L= pred.size(0), pred.size(1), pred.size(2)\n",
        "  U = token.size(1)\n",
        "  k=U+1+math.floor((T-U)*n)\n",
        "  theta=np.arccos(f)\n",
        "  m=np.sort(theta[:,:,1:]-theta[:,:,0],axis=2)\n",
        "  m=m[:,:,k]\n",
        "  z=np.zeros(f.shape)\n",
        "  z[:,:,0]=np.exp(math.cos(theta[:,:,0]+m))/(np.exp(math.cos(theta[:,:,0]+m))+ np.sum(np.exp(math.cos(theta[:,:,1:])),axis=2))\n",
        "  z[:,:,1:]=np.exp(math.cos(theta[:,:,1:]))/(np.exp(math.cos(theta[:,:,0]+m))+ np.sum(np.exp(math.cos(theta[:,:,1:])),axis=2))\n",
        "  z_token=z[:,:,0]\n",
        "\n",
        "  for i in range(2*U):\n",
        "\n",
        "    if i%2==1:\n",
        "      z_token.append(z[:,:,0])\n",
        "    else:\n",
        "      z_token.append(z[:,token[:,int(i/2)]])\n",
        "  c=0\n",
        "  weights=model.fc2.weigh.detach().numpy()\n",
        "  loss=np.sum(np.sum(-math.log(gamma)*z_token,axis=2),axis=0)+lamda1*np.sum(np.dot(weights[0,:],weights[1:,:].T)-math.cos(beta))+lamda2*c\n"
      ],
      "metadata": {
        "id": "iLsbn0CmHFzG"
      },
      "execution_count": null,
      "outputs": []
    },
    {
      "cell_type": "markdown",
      "source": [
        "Training the LeNet++ model using CTC loss"
      ],
      "metadata": {
        "id": "Q-Aw5GUXZR2D"
      }
    },
    {
      "cell_type": "code",
      "source": [
        "def train_ctc(model, optimizer, epochs, verbose=True):\n",
        "  \"\"\"\n",
        "    Define the trainer function. We can use this for training any model.\n",
        "    The parameter names are self-explanatory.\n",
        "\n",
        "    Returns: the loss history.\n",
        "  \"\"\"\n",
        "  loss_history = []\n",
        "  for epoch in range(epochs):\n",
        "    for i in range(len(train_seq_image)):\n",
        "      # Our batch:\n",
        "      inputs = train_seq_image[i]\n",
        "\n",
        "      labels=train_seq_label[i]\n",
        "\n",
        "      # zero the gradients as PyTorch accumulates them\n",
        "      optimizer.zero_grad()\n",
        "\n",
        "      # Obtain the scores\n",
        "      outputs,_,_ = model(inputs)\n",
        "\n",
        "      # Calculate loss\n",
        "      loss = ctc_loss(model,outputs, labels, 0.2*math.pi,1,1)\n",
        "\n",
        "      # Backpropagate\n",
        "      loss.backward()\n",
        "\n",
        "      # Update the weights\n",
        "      optimizer.step()\n",
        "\n",
        "      loss_history.append(loss.item())\n",
        "\n",
        "    if verbose: print(f'Epoch {epoch} / {epochs}: avg. loss of last 5 iterations {np.sum(loss_history[:-6:-1])/5}')\n",
        "\n",
        "  return loss_history"
      ],
      "metadata": {
        "id": "QvuwhFHJlDih"
      },
      "execution_count": null,
      "outputs": []
    },
    {
      "cell_type": "markdown",
      "source": [
        "Trainning"
      ],
      "metadata": {
        "id": "n9A_Ws0kZbqR"
      }
    },
    {
      "cell_type": "code",
      "source": [
        "import torch.optim as optim\n",
        "\n",
        "model = LeNetpp()\n",
        "\n",
        "\n",
        "optimizer = optim.Adagrad(model.parameters(), lr=1e-3)\n",
        "\n",
        "\n",
        "epochs = 64\n",
        "loss_history = train_ctc(model, optimizer, 30)"
      ],
      "metadata": {
        "id": "yaZP9d1fIDMB"
      },
      "execution_count": null,
      "outputs": []
    },
    {
      "cell_type": "markdown",
      "source": [
        "Training the LeNet++ model using RadialCTC loss"
      ],
      "metadata": {
        "id": "bCyqyJoZZh2Z"
      }
    },
    {
      "cell_type": "code",
      "source": [
        "def train_ctc(model, optimizer, epochs,n, verbose=True):\n",
        "  \"\"\"\n",
        "    Define the trainer function. We can use this for training any model.\n",
        "    The parameter names are self-explanatory.\n",
        "\n",
        "    Returns: the loss history.\n",
        "  \"\"\"\n",
        "  loss_history = []\n",
        "  for epoch in range(epochs):\n",
        "    for i in range(len(train_seq_image)):\n",
        "      # Our batch:\n",
        "      inputs = train_seq_image[i]\n",
        "\n",
        "      labels=train_seq_label[i]\n",
        "\n",
        "      # zero the gradients as PyTorch accumulates them\n",
        "      optimizer.zero_grad()\n",
        "\n",
        "      # Obtain the scores\n",
        "      outputs,_,_ = model(inputs)\n",
        "\n",
        "      # Calculate loss\n",
        "      loss = radialctc_loss(outputs, labels,n,11, 0.2*math.pi,1,1,model)\n",
        "\n",
        "      # Backpropagate\n",
        "      loss.backward()\n",
        "\n",
        "      # Update the weights\n",
        "      optimizer.step()\n",
        "\n",
        "      loss_history.append(loss.item())\n",
        "\n",
        "    if verbose: print(f'Epoch {epoch} / {epochs}: avg. loss of last 5 iterations {np.sum(loss_history[:-6:-1])/5}')\n",
        "\n",
        "  return loss_history"
      ],
      "metadata": {
        "id": "juqTejR8Zg3Q"
      },
      "execution_count": null,
      "outputs": []
    },
    {
      "cell_type": "markdown",
      "source": [
        "train"
      ],
      "metadata": {
        "id": "anDrWudXaYz3"
      }
    },
    {
      "cell_type": "code",
      "source": [
        "import torch.optim as optim\n",
        "\n",
        "model = LeNetpp()\n",
        "\n",
        "\n",
        "optimizer = optim.Adagrad(model.parameters(), lr=1e-3)\n",
        "n=[0,0.2,0.4,0.6,0.8]\n",
        "\n",
        "epochs = 64\n",
        "loss_history = train_ctc(model, optimizer, 30, n[0])"
      ],
      "metadata": {
        "id": "k6Teu29raK4d"
      },
      "execution_count": null,
      "outputs": []
    }
  ]
}