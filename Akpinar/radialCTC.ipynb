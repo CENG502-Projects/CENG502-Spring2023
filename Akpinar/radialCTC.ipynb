{
  "nbformat": 4,
  "nbformat_minor": 0,
  "metadata": {
    "colab": {
      "provenance": [],
      "machine_shape": "hm",
      "gpuType": "T4"
    },
    "kernelspec": {
      "name": "python3",
      "display_name": "Python 3"
    },
    "language_info": {
      "name": "python"
    },
    "accelerator": "GPU"
  },
  "cells": [
    {
      "cell_type": "markdown",
      "source": [
        "Importing libraries"
      ],
      "metadata": {
        "id": "qT4o0QFGW0pn"
      }
    },
    {
      "cell_type": "code",
      "source": [
        "import numpy as np\n",
        "from datetime import datetime\n",
        "from itertools import groupby\n",
        "\n",
        "import os\n",
        "# os.environ[\"CUDA_DEVICE_ORDER\"]=\"PCI_BUS_ID\"   # see issue #152\n",
        "# os.environ[\"CUDA_VISIBLE_DEVICES\"]=\"2\"\n",
        "import math\n",
        "import torch as T\n",
        "from torch.autograd import Variable\n",
        "import numpy as np\n",
        "import pdb\n",
        "import copy\n",
        "import time\n",
        "import torch\n",
        "import torch.nn as nn\n",
        "import torch.nn.functional as F\n",
        "from torch.utils.data import DataLoader\n",
        "from torchvision.transforms import ToTensor\n",
        "from torchvision import datasets, transforms\n",
        "\n",
        "import matplotlib.pyplot as plt\n",
        "!pip install torchsummaryX --quiet\n",
        "from torchsummaryX import summary as summaryX\n",
        "from torchsummary import summary\n",
        "# check device\n",
        "DEVICE = 'cuda' if torch.cuda.is_available() else 'cpu'"
      ],
      "metadata": {
        "id": "VGzgmlPW9RWy"
      },
      "execution_count": 3,
      "outputs": []
    },
    {
      "cell_type": "markdown",
      "source": [
        "Preparing Seq_MNIST data set alpha=9, ends=5 as paper"
      ],
      "metadata": {
        "id": "nG-LH7fuW8HR"
      }
    },
    {
      "cell_type": "code",
      "execution_count": 4,
      "metadata": {
        "id": "oOuN_h0_4gSG",
        "colab": {
          "base_uri": "https://localhost:8080/"
        },
        "outputId": "66edb0e6-6db0-4c03-822f-d4696d90732a"
      },
      "outputs": [
        {
          "output_type": "stream",
          "name": "stdout",
          "text": [
            "Downloading http://yann.lecun.com/exdb/mnist/train-images-idx3-ubyte.gz\n",
            "Downloading http://yann.lecun.com/exdb/mnist/train-images-idx3-ubyte.gz to data/MNIST/raw/train-images-idx3-ubyte.gz\n"
          ]
        },
        {
          "output_type": "stream",
          "name": "stderr",
          "text": [
            "100%|██████████| 9912422/9912422 [00:00<00:00, 94313201.23it/s]\n"
          ]
        },
        {
          "output_type": "stream",
          "name": "stdout",
          "text": [
            "Extracting data/MNIST/raw/train-images-idx3-ubyte.gz to data/MNIST/raw\n",
            "\n",
            "Downloading http://yann.lecun.com/exdb/mnist/train-labels-idx1-ubyte.gz\n",
            "Downloading http://yann.lecun.com/exdb/mnist/train-labels-idx1-ubyte.gz to data/MNIST/raw/train-labels-idx1-ubyte.gz\n"
          ]
        },
        {
          "output_type": "stream",
          "name": "stderr",
          "text": [
            "100%|██████████| 28881/28881 [00:00<00:00, 26919043.07it/s]\n"
          ]
        },
        {
          "output_type": "stream",
          "name": "stdout",
          "text": [
            "Extracting data/MNIST/raw/train-labels-idx1-ubyte.gz to data/MNIST/raw\n",
            "\n",
            "Downloading http://yann.lecun.com/exdb/mnist/t10k-images-idx3-ubyte.gz\n",
            "Downloading http://yann.lecun.com/exdb/mnist/t10k-images-idx3-ubyte.gz to data/MNIST/raw/t10k-images-idx3-ubyte.gz\n"
          ]
        },
        {
          "output_type": "stream",
          "name": "stderr",
          "text": [
            "100%|██████████| 1648877/1648877 [00:00<00:00, 26067799.19it/s]\n"
          ]
        },
        {
          "output_type": "stream",
          "name": "stdout",
          "text": [
            "Extracting data/MNIST/raw/t10k-images-idx3-ubyte.gz to data/MNIST/raw\n",
            "\n",
            "Downloading http://yann.lecun.com/exdb/mnist/t10k-labels-idx1-ubyte.gz\n",
            "Downloading http://yann.lecun.com/exdb/mnist/t10k-labels-idx1-ubyte.gz to data/MNIST/raw/t10k-labels-idx1-ubyte.gz\n"
          ]
        },
        {
          "output_type": "stream",
          "name": "stderr",
          "text": [
            "100%|██████████| 4542/4542 [00:00<00:00, 4706158.29it/s]\n"
          ]
        },
        {
          "output_type": "stream",
          "name": "stdout",
          "text": [
            "Extracting data/MNIST/raw/t10k-labels-idx1-ubyte.gz to data/MNIST/raw\n",
            "\n"
          ]
        }
      ],
      "source": [
        "from torchvision import datasets\n",
        "from torchvision.transforms import ToTensor\n",
        "train_data = datasets.MNIST(\n",
        "    root = 'data',\n",
        "    train = True,\n",
        "    transform = transforms.Compose([\n",
        "                                                  transforms.Resize((32,32)),\n",
        "                                                  transforms.ToTensor()]),\n",
        "\n",
        "    download = True,\n",
        ")\n",
        "test_data = datasets.MNIST(\n",
        "    root = 'data',\n",
        "    train = False,\n",
        "    transform = transforms.Compose([\n",
        "                                                  transforms.Resize((32,32)),\n",
        "                                                  transforms.ToTensor()])\n",
        "\n",
        ")\n",
        "\n",
        "def prepare_data(data):\n",
        "  seq_data=[]\n",
        "  seq_label=[]\n",
        "  k=1\n",
        "  temp_data=[]\n",
        "  temp_label=[]\n",
        "  ends=5\n",
        "  alpha=9\n",
        "  total=3*alpha+2*ends\n",
        "  for image,label in data:  # example is `{'image': tf.Tensor, 'label': tf.Tensor}`\n",
        "    image=image*255\n",
        "    temp_label.append(label)\n",
        "    if k%4==1:\n",
        "      for i in range(1,alpha+1,2):\n",
        "        temp_data.append(image*0.1*(i))\n",
        "\n",
        "      temp_data.append(image)\n",
        "\n",
        "      for i in range(alpha):\n",
        "        temp_data.append(image*0.1*(alpha-i))\n",
        "\n",
        "    elif k%4==0:\n",
        "      temp_data.append(image)\n",
        "      l = len(temp_data)\n",
        "      for i in range(alpha):\n",
        "        temp_data[l-alpha+i]=temp_data[l-alpha+i]+image*0.1*(i)\n",
        "\n",
        "        if (i+1)%2==1:\n",
        "          temp_data.append(image*0.1*(alpha-i))\n",
        "      seq_data.append(torch.cat(temp_data, dim=0).reshape((41,1,32,32)))\n",
        "      seq_label.append(torch.tensor(temp_label).reshape((4,1)))\n",
        "      temp_data=[]\n",
        "      temp_label=[]\n",
        "    else:\n",
        "      l = len(temp_data)\n",
        "      temp_data.append(image)\n",
        "      for i in range(alpha):\n",
        "        temp_data[l-alpha+i]=temp_data[l-alpha+i]+image*0.1*(i)\n",
        "        temp_data.append(image*0.1*(alpha-i))\n",
        "    k=k+1\n",
        "  return torch.cat(seq_data, dim=1), torch.cat(seq_label, dim=1)\n",
        "\n",
        "train_seq_image, train_seq_label = prepare_data(train_data)\n",
        "test_seq_image, test_seq_label = prepare_data(test_data)\n"
      ]
    },
    {
      "cell_type": "code",
      "source": [],
      "metadata": {
        "id": "9nQsdNfSXM6S"
      },
      "execution_count": 4,
      "outputs": []
    },
    {
      "cell_type": "code",
      "source": [
        "c=1\n",
        "for i in train_seq_image[:,0,:,:]:\n",
        "\n",
        "  plt.subplot(5, 10, c)\n",
        "  plt.imshow(i.reshape(32,32), cmap='gray', vmin=0, vmax=255)\n",
        "  c=c+1\n",
        "plt.show()"
      ],
      "metadata": {
        "colab": {
          "base_uri": "https://localhost:8080/",
          "height": 413
        },
        "id": "VU8Vh19PCFxL",
        "outputId": "d44967d2-54bf-43e0-865f-2e8ac29069ce"
      },
      "execution_count": 5,
      "outputs": [
        {
          "output_type": "display_data",
          "data": {
            "text/plain": [
              "<Figure size 640x480 with 41 Axes>"
            ],
            "image/png": "[encoded data removed]"
          },
          "metadata": {}
        }
      ]
    },
    {
      "cell_type": "markdown",
      "source": [
        "LeNet++ implementation from Wen, Y., Zhang, K., Li, Z., Qiao, Y.: A discriminative feature learning approach for\n",
        "deep face recognition. In: Proceedings of the European Conference on Computer\n",
        "Vision. pp. 499–515. Springer (2016)\n"
      ],
      "metadata": {
        "id": "eFxcf-E7YGr3"
      }
    },
    {
      "cell_type": "code",
      "source": [
        "class LeNetpp(nn.Module):\n",
        "    def __init__(self):\n",
        "        super().__init__()\n",
        "        self.layer1 = nn.Sequential(\n",
        "            nn.Conv2d(1, 32, kernel_size=5, stride=1, padding=2),\n",
        "            nn.BatchNorm2d(32),\n",
        "            nn.PReLU(),\n",
        "            nn.Conv2d(32, 32, kernel_size=5, stride=1, padding=2),\n",
        "            nn.BatchNorm2d(32),\n",
        "            nn.PReLU(),\n",
        "            nn.MaxPool2d(kernel_size = 2, stride = 2))\n",
        "\n",
        "        self.layer2 = nn.Sequential(\n",
        "            nn.Conv2d(32, 64, kernel_size=5, stride=1, padding=2),\n",
        "            nn.BatchNorm2d(64),\n",
        "            nn.PReLU(),\n",
        "            nn.Conv2d(64, 64, kernel_size=5, stride=1, padding=2),\n",
        "            nn.BatchNorm2d(64),\n",
        "            nn.PReLU(),\n",
        "            nn.MaxPool2d(kernel_size = 2, stride = 2))\n",
        "        self.layer3 = nn.Sequential(\n",
        "            nn.Conv2d(64, 128, kernel_size=5, stride=1, padding=2),\n",
        "            nn.BatchNorm2d(128),\n",
        "            nn.PReLU(),\n",
        "            nn.Conv2d(128, 128, kernel_size=5, stride=1, padding=2),\n",
        "            nn.BatchNorm2d(128),\n",
        "            nn.PReLU(),\n",
        "            nn.MaxPool2d(kernel_size = 2, stride = 2),\n",
        "            nn.Flatten())\n",
        "\n",
        "        self.fc = nn.Linear(2048, 3)\n",
        "        self.relu = nn.PReLU()\n",
        "        self.fc2 = nn.Linear(3,11)\n",
        "        self.softmax= nn.Softmax(dim=1)\n",
        "\n",
        "\n",
        "    def forward(self, x):\n",
        "        out = self.layer1(x)\n",
        "        out = self.layer2(out)\n",
        "        out = self.layer3(out)\n",
        "        out = self.fc(out)\n",
        "        self.v = self.relu(out)\n",
        "        self.f = self.fc2(self.v)\n",
        "        out = self.softmax(self.f)\n",
        "\n",
        "        return out"
      ],
      "metadata": {
        "id": "r8YXqFY56Pbs"
      },
      "execution_count": 9,
      "outputs": []
    },
    {
      "cell_type": "code",
      "source": [
        "model = LeNetpp()\n",
        "\n",
        "x = torch.randn(41,1,32,32)\n",
        "output = model(x)\n",
        "print(model)\n",
        "print(\"output.shape : \",output.shape)"
      ],
      "metadata": {
        "colab": {
          "base_uri": "https://localhost:8080/"
        },
        "id": "NDrjL0eEHAO_",
        "outputId": "51b2ca1f-e024-460d-f47f-e64ac63a40cb"
      },
      "execution_count": 10,
      "outputs": [
        {
          "output_type": "stream",
          "name": "stdout",
          "text": [
            "LeNetpp(\n",
            "  (layer1): Sequential(\n",
            "    (0): Conv2d(1, 32, kernel_size=(5, 5), stride=(1, 1), padding=(2, 2))\n",
            "    (1): BatchNorm2d(32, eps=1e-05, momentum=0.1, affine=True, track_running_stats=True)\n",
            "    (2): PReLU(num_parameters=1)\n",
            "    (3): Conv2d(32, 32, kernel_size=(5, 5), stride=(1, 1), padding=(2, 2))\n",
            "    (4): BatchNorm2d(32, eps=1e-05, momentum=0.1, affine=True, track_running_stats=True)\n",
            "    (5): PReLU(num_parameters=1)\n",
            "    (6): MaxPool2d(kernel_size=2, stride=2, padding=0, dilation=1, ceil_mode=False)\n",
            "  )\n",
            "  (layer2): Sequential(\n",
            "    (0): Conv2d(32, 64, kernel_size=(5, 5), stride=(1, 1), padding=(2, 2))\n",
            "    (1): BatchNorm2d(64, eps=1e-05, momentum=0.1, affine=True, track_running_stats=True)\n",
            "    (2): PReLU(num_parameters=1)\n",
            "    (3): Conv2d(64, 64, kernel_size=(5, 5), stride=(1, 1), padding=(2, 2))\n",
            "    (4): BatchNorm2d(64, eps=1e-05, momentum=0.1, affine=True, track_running_stats=True)\n",
            "    (5): PReLU(num_parameters=1)\n",
            "    (6): MaxPool2d(kernel_size=2, stride=2, padding=0, dilation=1, ceil_mode=False)\n",
            "  )\n",
            "  (layer3): Sequential(\n",
            "    (0): Conv2d(64, 128, kernel_size=(5, 5), stride=(1, 1), padding=(2, 2))\n",
            "    (1): BatchNorm2d(128, eps=1e-05, momentum=0.1, affine=True, track_running_stats=True)\n",
            "    (2): PReLU(num_parameters=1)\n",
            "    (3): Conv2d(128, 128, kernel_size=(5, 5), stride=(1, 1), padding=(2, 2))\n",
            "    (4): BatchNorm2d(128, eps=1e-05, momentum=0.1, affine=True, track_running_stats=True)\n",
            "    (5): PReLU(num_parameters=1)\n",
            "    (6): MaxPool2d(kernel_size=2, stride=2, padding=0, dilation=1, ceil_mode=False)\n",
            "    (7): Flatten(start_dim=1, end_dim=-1)\n",
            "  )\n",
            "  (fc): Linear(in_features=2048, out_features=3, bias=True)\n",
            "  (relu): PReLU(num_parameters=1)\n",
            "  (fc2): Linear(in_features=3, out_features=11, bias=True)\n",
            "  (softmax): Softmax(dim=1)\n",
            ")\n",
            "output.shape :  torch.Size([41, 11])\n"
          ]
        }
      ]
    },
    {
      "cell_type": "markdown",
      "source": [
        "Common parts of CTC and Radial CTC loss implemented using https://ogunlao.github.io/blog/2020/07/17/breaking-down-ctc-loss.html explanation"
      ],
      "metadata": {
        "id": "SH7RSOGOYqad"
      }
    },
    {
      "cell_type": "code",
      "source": [
        "def ctc_loss_base(pred, token):\n",
        "    '''\n",
        "    :param pred: (Time, batch, voca_size+1)\n",
        "    :param pred_len: (batch)\n",
        "    :param token: (batch, U)\n",
        "    :param token_len: (batch)\n",
        "    '''\n",
        "    if len(pred.shape)==3:\n",
        "      Time, batch, L= pred.size(0), pred.size(1), pred.size(2)\n",
        "      U = token.size(1)\n",
        "\n",
        "      pred_token=pred[:,:,10].clone()\n",
        "\n",
        "      for i in range(2*U):\n",
        "\n",
        "        if i%2==1:\n",
        "          pred_token=torch.cat((pred_token,pred[:,:,10].clone()), dim=2)\n",
        "        else:\n",
        "          pred_token=torch.cat((pred_token,pred[:,:,token[:,int(i/2)].clone()].clone()), dim=2)\n",
        "      alpha=T.zeros(pred.shape)\n",
        "\n",
        "      for t in range(Time):\n",
        "        for s in range(2*U+1):\n",
        "          if s==0 and t==0:\n",
        "            alpha[0,:,0]=pred_token[0,:,0]\n",
        "          elif s==1 and t==0:\n",
        "            alpha[0,:,1]=pred_token[0,:,1]\n",
        "          else:\n",
        "            if s %2==0:\n",
        "              if t>0:\n",
        "                if s>0:\n",
        "                  alpha[t,:,s] = (alpha[t-1,:,s]+ alpha[t-1,:,s-1])*pred_token[t,:,s]\n",
        "                else:\n",
        "                  alpha[t,:,s] = (alpha[t-1,:,s])*pred_token[t,:,s]\n",
        "            else:\n",
        "              if s>2:\n",
        "                if t>1:\n",
        "                  mask = token[:,int((s-1)/2)].clone()==token[:,int((s-3)/2)].clone()\n",
        "                  alpha[t,mask,s] = (alpha[t-1,mask,s]+ alpha[t-1,mask,s-1])*pred_token[t,mask,s]\n",
        "                  alpha[t,~mask,s] = (alpha[t-1,~mask,s]+alpha[t-1,~mask,s-1]+alpha[t-2,~mask,s-2])*pred_token[t,~mask,s]\n",
        "                elif t>0:\n",
        "                  alpha[t,:,s] = (alpha[t-1,:,s]+alpha[t-1,:,s-1])*pred_token[t,:,s]\n",
        "\n",
        "              else:\n",
        "\n",
        "                if t<1:\n",
        "                  alpha[t,:,s] = 0\n",
        "                elif s<1:\n",
        "                  alpha[t,:,s] = (alpha[t-1,:,s])*pred_token[t,:,s]\n",
        "                elif t<2 or s<2:\n",
        "                  alpha[t,:,s] = (alpha[t-1,:,s]+alpha[t-1,:,s-1])*pred_token[t,:,s]\n",
        "                else:\n",
        "                  alpha[t,:,s] = (alpha[t-1,:,s]+alpha[t-1,:,s-1]+alpha[t-2,:,s-2])*pred_token[t,:,s]\n",
        "\n",
        "      beta = T.zeros(pred.shape)\n",
        "      for tr in range(Time):\n",
        "        for sr in range(2*U+1):\n",
        "          t=Time-1-tr\n",
        "          s=2*U-sr\n",
        "          if s==2*U and t==Time-1:\n",
        "            beta[s,:,t]=1\n",
        "          elif s==2*U-1 and t==Time-1:\n",
        "            beta[s,:,t]=1\n",
        "          else:\n",
        "            if s %2==0:\n",
        "              if t<Time-1:\n",
        "                if s<2*U:\n",
        "                  beta[t,:,s] = (beta[t+1,:,s]*pred_token[t,:,s]+ beta[t+1,:,s+1]*pred_token[t,:,s+1])\n",
        "                else:\n",
        "                  beta[t,:,s] = (beta[t+1,:,s])*pred_token[t,:,s]\n",
        "            else:\n",
        "              if s<2*U-1 and t<Time-2:\n",
        "\n",
        "                mask = token[:,int((s-1)/2)].clone()==token[:,int((s+1)/2)].clone()\n",
        "                beta[t,mask,s] = (beta[t+1,mask,s]+ beta[t+1,mask,s+1])*pred_token[t,mask,s]\n",
        "                beta[t,~mask,s] = (beta[t+1,~mask,s]+beta[t+1,~mask,s+1]+beta[t+2,~mask,s+2])*pred_token[t,~mask,s]\n",
        "              else:\n",
        "                if  t<Time-1:\n",
        "                  if s<2*U:\n",
        "                    beta[t,:,s] = (beta[t+1,:,s]*pred_token[t,:,s]+ beta[t+1,:,s+1]*pred_token[t,:,s+1])\n",
        "                  else:\n",
        "                    beta[t,:,s] = (beta[t+1,:,s])*pred_token[t,:,s]\n",
        "\n",
        "      gamma=beta*alpha/pred_token\n",
        "      return gamma,pred_token\n",
        "    elif len(pred.shape)==2:\n",
        "      Time, L= pred.size(0), pred.size(1)\n",
        "      U = token.size(1)\n",
        "\n",
        "      pred_token=pred[:,10].clone().reshape((pred.shape[0],1))\n",
        "\n",
        "      for i in range(2*U):\n",
        "\n",
        "        if i%2==1:\n",
        "\n",
        "          pred_token=torch.cat((pred_token,pred[:,10].clone().reshape((pred.size(0),1))), dim=1)\n",
        "        else:\n",
        "          pred_token=torch.cat((pred_token,pred[:,token[0,int(i/2)].clone()].clone().reshape((pred.size(0),1))), dim=1)\n",
        "\n",
        "      alpha=T.zeros((Time,2*U+1)).cuda()\n",
        "\n",
        "      for t in range(Time):\n",
        "        for s in range(2*U+1):\n",
        "          if s==0 and t==0:\n",
        "            alpha[0,0]=pred_token[0,0].clone()\n",
        "          elif s==1 and t==0:\n",
        "            alpha[0,1]=pred_token[0,1].clone()\n",
        "          else:\n",
        "            if s %2==0:\n",
        "              if t>0:\n",
        "                if s>0:\n",
        "                  alpha[t,s] = (alpha[t-1,s].clone()+ alpha[t-1,s-1].clone())*pred_token[t,s].clone()\n",
        "                else:\n",
        "                  alpha[t,s] = (alpha[t-1,s].clone())*pred_token[t,s].clone()\n",
        "            else:\n",
        "              if s>2:\n",
        "                if t>1:\n",
        "                  if token[0,int((s-1)/2)].clone()==token[0,int((s-3)/2)].clone():\n",
        "                    alpha[t,s] = (alpha[t-1,s].clone()+ alpha[t-1,s-1].clone())*pred_token[t,s].clone()\n",
        "                  else:\n",
        "                    alpha[t,s] = (alpha[t-1,s].clone()+alpha[t-1,s-1].clone()+alpha[t-2,s-2].clone())*pred_token[t,s].clone()\n",
        "                elif t>0:\n",
        "                  alpha[t,s] = (alpha[t-1,s].clone()+alpha[t-1,s-1].clone())*pred_token[t,s].clone()\n",
        "\n",
        "              else:\n",
        "\n",
        "                if t<1:\n",
        "                  alpha[t,s] = 0\n",
        "                elif s<1:\n",
        "                  alpha[t,s] = (alpha[t-1,s].clone())*pred_token[t,s].clone()\n",
        "                elif t<2 or s<2:\n",
        "                  alpha[t,s] = (alpha[t-1,s].clone()+alpha[t-1,s-1].clone())*pred_token[t,s].clone()\n",
        "                else:\n",
        "                  alpha[t,s] = (alpha[t-1,s].clone()+alpha[t-1,s-1].clone()+alpha[t-2,s-2].clone())*pred_token[t,s].clone()\n",
        "\n",
        "      beta = T.zeros((Time,2*U+1)).cuda()\n",
        "      for tr in range(Time):\n",
        "        for sr in range(2*U+1):\n",
        "          t=Time-1-tr\n",
        "          s=2*U-sr\n",
        "          if s==2*U and t==Time-1:\n",
        "            beta[t,s]=1\n",
        "          elif s==2*U-1 and t==Time-1:\n",
        "            beta[t,s]=1\n",
        "          else:\n",
        "            if s %2==0:\n",
        "              if t<Time-1:\n",
        "                if s<2*U:\n",
        "                  beta[t,s] = (beta[t+1,s].clone()*pred_token[t,s].clone()+ beta[t+1,s+1].clone()*pred_token[t,s+1].clone())\n",
        "                else:\n",
        "                  beta[t,s] = (beta[t+1,s].clone())*pred_token[t,s].clone()\n",
        "            else:\n",
        "              if s<2*U-1 and t<Time-2:\n",
        "\n",
        "                if token[0,int((s-1)/2)].clone()==token[0,int((s+1)/2)].clone():\n",
        "                  beta[t,s] = (beta[t+1,s].clone()+ beta[t+1,s+1].clone())*pred_token[t,s].clone()\n",
        "                else:\n",
        "                  beta[t,s] = (beta[t+1,s].clone()+beta[t+1,s+1]+beta[t+2,s+2].clone())*pred_token[t,s].clone()\n",
        "              else:\n",
        "                if  t<Time-1:\n",
        "                  if s<2*U:\n",
        "                    beta[t,s] = (beta[t+1,s].clone()*pred_token[t,s].clone()+ beta[t+1,s+1].clone()*pred_token[t,s+1].clone())\n",
        "                  else:\n",
        "                    beta[t,s] = (beta[t+1,s].clone())*pred_token[t,s].clone()\n",
        "      gamma=beta*alpha/pred_token\n",
        "\n",
        "      return gamma,pred_token"
      ],
      "metadata": {
        "id": "SJlHIxvHTPKw"
      },
      "execution_count": 106,
      "outputs": []
    },
    {
      "cell_type": "code",
      "source": [
        "label[0,2]"
      ],
      "metadata": {
        "colab": {
          "base_uri": "https://localhost:8080/"
        },
        "id": "FCOZz26diL7f",
        "outputId": "c8e631d4-68d7-4692-e0eb-549b0e843d02"
      },
      "execution_count": 94,
      "outputs": [
        {
          "output_type": "execute_result",
          "data": {
            "text/plain": [
              "tensor(4)"
            ]
          },
          "metadata": {},
          "execution_count": 94
        }
      ]
    },
    {
      "cell_type": "markdown",
      "source": [
        "CTC loss function"
      ],
      "metadata": {
        "id": "MYAqaI8TZEDz"
      }
    },
    {
      "cell_type": "code",
      "source": [
        "def ctc_loss(pred, token, beta, lamda1,lamda2,model,s=1):\n",
        "  gamma,_=ctc_loss_base(pred,token)\n",
        "  p_seq= T.clip(T.sum(gamma,dim=1),min=1e-5,max=1-1e-5)\n",
        "\n",
        "  W=F.normalize(model.fc2.weight.clone(), dim=0)\n",
        "  v=F.normalize(model.v.clone(), dim=0)*s\n",
        "  print(T.log(p_seq))\n",
        "  ctc = T.sum(-T.log(p_seq),dim=0)\n",
        "\n",
        "  angular = T.sum(T.mm(W[10,:].reshape(1,W.shape[1]),W[:10,:].T)-T.cos(T.tensor([beta]).cuda()))\n",
        "\n",
        "  center = T.sum(T.sum((T.pow(v, 2).sum(dim=1, keepdim=True).expand(pred.shape[0], pred.shape[1]) + torch.pow(W, 2).sum(dim=1, keepdim=True).T.expand(pred.shape[0], pred.shape[1]) -2*T.mm(v,W.T)),dim=1),dim=0)\n",
        "\n",
        "  loss=ctc + lamda1*angular + lamda2*center\n",
        "  return loss\n"
      ],
      "metadata": {
        "id": "ooneS9dCLJvz"
      },
      "execution_count": 107,
      "outputs": []
    },
    {
      "cell_type": "code",
      "source": [],
      "metadata": {
        "colab": {
          "base_uri": "https://localhost:8080/"
        },
        "id": "YRKPq7hL8eu0",
        "outputId": "93308b6a-e8d2-43f9-f53c-21e34b60c678"
      },
      "execution_count": 69,
      "outputs": [
        {
          "output_type": "execute_result",
          "data": {
            "text/plain": [
              "2"
            ]
          },
          "metadata": {},
          "execution_count": 69
        }
      ]
    },
    {
      "cell_type": "markdown",
      "source": [
        "\n",
        "RadialCTC loss function from the paper"
      ],
      "metadata": {
        "id": "2W4iQTeEZPPw"
      }
    },
    {
      "cell_type": "markdown",
      "source": [],
      "metadata": {
        "id": "sjiPfzIcapW3"
      }
    },
    {
      "cell_type": "code",
      "source": [
        "def radialctc_loss(pred, token,n,beta,lamda1,lamda2,model,s=1):\n",
        "  gamma,pred_token=ctc_loss_base(pred,token)\n",
        "  U = token.size(0)\n",
        "  k=U+1+math.floor((model.v.shape[1]-U)*n)\n",
        "\n",
        "  W=F.normalize(model.fc2.weight.clone(), dim=0)\n",
        "  v=F.normalize(model.v.clone(), dim=0)*s\n",
        "\n",
        "  theta=T.arccos(T.mm(v,W.T))\n",
        "\n",
        "  b=theta.shape[1]-1\n",
        "  m,_=(theta[:,:b]-theta[:,b].reshape((theta.shape[0],1))).sort(dim=1)\n",
        "\n",
        "  m=m[:,k]\n",
        "  z=T.zeros(theta.shape)\n",
        "  z[:,b]=T.div(T.exp(s*T.cos(theta[:,b].reshape((theta.shape[0],1))+m.reshape((theta.shape[0],1)))),(T.exp(s*T.cos(theta[:,b].reshape((theta.shape[0],1))+m.reshape((theta.shape[0],1))))+ T.sum(T.exp(s*T.cos(theta[:,:b])),dim=1).reshape((theta.shape[0],1)))).reshape((theta.shape[0],))\n",
        "\n",
        "\n",
        "  z[:,:b]=T.div(T.exp(s*T.cos(theta[:,:b])),(T.exp(s*T.cos(theta[:,b].reshape((theta.shape[0],1))+m.reshape((theta.shape[0],1))))+ T.sum(T.exp(s*T.cos(theta[:,:b])),dim=1).reshape((theta.shape[0],1))).expand(theta.shape[0], theta.shape[1]-1) )\n",
        "  z_token=z[:,b]\n",
        "  for i in range(2*U):\n",
        "\n",
        "    if i%2==1:\n",
        "\n",
        "      z_token=torch.cat((z_token,z[:,b].reshape((z.size(0),1))), dim=1)\n",
        "\n",
        "    else:\n",
        "      z_token=torch.cat((z_token,z[:,token[int(i/2)]].clone()), dim=1)\n",
        "  c=0\n",
        "  radial = T.sum(T.sum(-math.log(gamma)*z_token,dim=1),dim=0)\n",
        "  angular = T.sum(T.mm(W[b,:].reshape(1,W.shape[1]),W[:b,:].T)-T.cos(T.tensor([beta])))\n",
        "  center = T.sum(T.sum((T.pow(v, 2).sum(dim=1, keepdim=True).expand(pred.shape[0], pred.shape[1]) + torch.pow(W, 2).sum(dim=1, keepdim=True).T.expand(pred.shape[0], pred.shape[1]) -2*T.mm(v,W.T)),dim=1),dim=0)\n",
        "\n",
        "  loss=radial + lamda1*angular + lamda2*center\n",
        "  return loss"
      ],
      "metadata": {
        "id": "iLsbn0CmHFzG"
      },
      "execution_count": 167,
      "outputs": []
    },
    {
      "cell_type": "markdown",
      "source": [
        "Training the LeNet++ model using CTC loss"
      ],
      "metadata": {
        "id": "Q-Aw5GUXZR2D"
      }
    },
    {
      "cell_type": "code",
      "source": [
        "model = LeNetpp().to(DEVICE)\n",
        "batch=1\n",
        "optimizer = torch.optim.Adagrad(model.parameters(), lr=0.1)\n",
        "epochs=30\n",
        "for _ in range(epochs):\n",
        "    # ============================================ TRAINING =====================================================\n",
        "    train_correct = 0\n",
        "    train_total = 0\n",
        "    for i in range(len(train_seq_image)):\n",
        "        seq = train_seq_image[:,i,:,:].reshape(41,1,32,32)\n",
        "        label = train_seq_label[:,i].reshape((1,4))\n",
        "        output= model(seq.cuda())\n",
        "        loss = ctc_loss(output, label, 0.2*math.pi, 1,1,model,s=1)\n",
        "        optimizer.zero_grad()\n",
        "        loss.backward()\n",
        "        optimizer.step()\n",
        "        _, max_index = torch.max(output, dim=1)  # max_index.shape == torch.Size([32, 64])\n",
        "\n",
        "        raw_prediction = list(max_index.detach().cpu().numpy())  # len(raw_prediction) == 32\n",
        "        prediction = torch.IntTensor([c for c, _ in groupby(raw_prediction) if c != 10])\n",
        "        if len(prediction) == len(label) and torch.all(prediction.eq(label)):\n",
        "            train_correct += 1\n",
        "        train_total += 1\n",
        "    print('TRAINING. Correct: ', train_correct, '/', train_total, '=', train_correct / train_total,\" loss= \",loss)\n",
        "\n"
      ],
      "metadata": {
        "colab": {
          "base_uri": "https://localhost:8080/",
          "height": 1000
        },
        "id": "xTnzGYeYIh86",
        "outputId": "88576bee-4e15-4f73-d4c6-40b0ba99dfb1"
      },
      "execution_count": 128,
      "outputs": [
        {
          "output_type": "stream",
          "name": "stdout",
          "text": [
            "tensor([-11.5129, -11.5129, -11.5129, -11.5129, -11.5129, -11.5129, -11.5129,\n",
            "        -11.5129, -11.5129, -11.5129, -11.5129, -11.5129, -11.5129, -11.5129,\n",
            "        -11.5129, -11.5129, -11.5129, -11.5129, -11.5129, -11.5129, -11.5129,\n",
            "        -11.5129, -11.5129, -11.5129, -11.5129, -11.5129, -11.5129, -11.5129,\n",
            "        -11.5129, -11.5129, -11.5129, -11.5129, -11.5129, -11.5129, -11.5129,\n",
            "        -11.5129, -11.5129, -11.5129, -11.5129, -11.5129, -11.5129],\n",
            "       device='cuda:0', grad_fn=<LogBackward0>)\n",
            "tensor([-11.5129, -11.5129, -11.5129, -11.5129, -11.5129,      nan, -11.5129,\n",
            "        -11.5129, -11.5129, -11.5129, -11.5129, -11.5129, -11.5129, -11.5129,\n",
            "        -11.5129, -11.5129, -11.5129, -11.5129, -11.5129, -11.5129, -11.5129,\n",
            "        -11.5129, -11.5129, -11.5129, -11.5129,      nan,      nan, -11.5129,\n",
            "        -11.5129, -11.5129, -11.5129, -11.5129, -11.5129, -11.5129, -11.5129,\n",
            "             nan, -11.5129, -11.5129, -11.5129, -11.5129, -11.5129],\n",
            "       device='cuda:0', grad_fn=<LogBackward0>)\n"
          ]
        },
        {
          "output_type": "stream",
          "name": "stderr",
          "text": [
            "/usr/local/lib/python3.10/dist-packages/torch/autograd/__init__.py:200: UserWarning: Error detected in LogBackward0. Traceback of forward call that caused the error:\n",
            "  File \"/usr/lib/python3.10/runpy.py\", line 196, in _run_module_as_main\n",
            "    return _run_code(code, main_globals, None,\n",
            "  File \"/usr/lib/python3.10/runpy.py\", line 86, in _run_code\n",
            "    exec(code, run_globals)\n",
            "  File \"/usr/local/lib/python3.10/dist-packages/ipykernel_launcher.py\", line 16, in <module>\n",
            "    app.launch_new_instance()\n",
            "  File \"/usr/local/lib/python3.10/dist-packages/traitlets/config/application.py\", line 992, in launch_instance\n",
            "    app.start()\n",
            "  File \"/usr/local/lib/python3.10/dist-packages/ipykernel/kernelapp.py\", line 619, in start\n",
            "    self.io_loop.start()\n",
            "  File \"/usr/local/lib/python3.10/dist-packages/tornado/platform/asyncio.py\", line 195, in start\n",
            "    self.asyncio_loop.run_forever()\n",
            "  File \"/usr/lib/python3.10/asyncio/base_events.py\", line 603, in run_forever\n",
            "    self._run_once()\n",
            "  File \"/usr/lib/python3.10/asyncio/base_events.py\", line 1909, in _run_once\n",
            "    handle._run()\n",
            "  File \"/usr/lib/python3.10/asyncio/events.py\", line 80, in _run\n",
            "    self._context.run(self._callback, *self._args)\n",
            "  File \"/usr/local/lib/python3.10/dist-packages/tornado/ioloop.py\", line 685, in <lambda>\n",
            "    lambda f: self._run_callback(functools.partial(callback, future))\n",
            "  File \"/usr/local/lib/python3.10/dist-packages/tornado/ioloop.py\", line 738, in _run_callback\n",
            "    ret = callback()\n",
            "  File \"/usr/local/lib/python3.10/dist-packages/tornado/gen.py\", line 825, in inner\n",
            "    self.ctx_run(self.run)\n",
            "  File \"/usr/local/lib/python3.10/dist-packages/tornado/gen.py\", line 786, in run\n",
            "    yielded = self.gen.send(value)\n",
            "  File \"/usr/local/lib/python3.10/dist-packages/ipykernel/kernelbase.py\", line 361, in process_one\n",
            "    yield gen.maybe_future(dispatch(*args))\n",
            "  File \"/usr/local/lib/python3.10/dist-packages/tornado/gen.py\", line 234, in wrapper\n",
            "    yielded = ctx_run(next, result)\n",
            "  File \"/usr/local/lib/python3.10/dist-packages/ipykernel/kernelbase.py\", line 261, in dispatch_shell\n",
            "    yield gen.maybe_future(handler(stream, idents, msg))\n",
            "  File \"/usr/local/lib/python3.10/dist-packages/tornado/gen.py\", line 234, in wrapper\n",
            "    yielded = ctx_run(next, result)\n",
            "  File \"/usr/local/lib/python3.10/dist-packages/ipykernel/kernelbase.py\", line 539, in execute_request\n",
            "    self.do_execute(\n",
            "  File \"/usr/local/lib/python3.10/dist-packages/tornado/gen.py\", line 234, in wrapper\n",
            "    yielded = ctx_run(next, result)\n",
            "  File \"/usr/local/lib/python3.10/dist-packages/ipykernel/ipkernel.py\", line 302, in do_execute\n",
            "    res = shell.run_cell(code, store_history=store_history, silent=silent)\n",
            "  File \"/usr/local/lib/python3.10/dist-packages/ipykernel/zmqshell.py\", line 539, in run_cell\n",
            "    return super(ZMQInteractiveShell, self).run_cell(*args, **kwargs)\n",
            "  File \"/usr/local/lib/python3.10/dist-packages/IPython/core/interactiveshell.py\", line 2975, in run_cell\n",
            "    result = self._run_cell(\n",
            "  File \"/usr/local/lib/python3.10/dist-packages/IPython/core/interactiveshell.py\", line 3030, in _run_cell\n",
            "    return runner(coro)\n",
            "  File \"/usr/local/lib/python3.10/dist-packages/IPython/core/async_helpers.py\", line 78, in _pseudo_sync_runner\n",
            "    coro.send(None)\n",
            "  File \"/usr/local/lib/python3.10/dist-packages/IPython/core/interactiveshell.py\", line 3257, in run_cell_async\n",
            "    has_raised = await self.run_ast_nodes(code_ast.body, cell_name,\n",
            "  File \"/usr/local/lib/python3.10/dist-packages/IPython/core/interactiveshell.py\", line 3473, in run_ast_nodes\n",
            "    if (await self.run_code(code, result,  async_=asy)):\n",
            "  File \"/usr/local/lib/python3.10/dist-packages/IPython/core/interactiveshell.py\", line 3553, in run_code\n",
            "    exec(code_obj, self.user_global_ns, self.user_ns)\n",
            "  File \"<ipython-input-128-a61bfcc3ce6e>\", line 13, in <cell line: 5>\n",
            "    loss = ctc_loss(output, label, 0.2*math.pi, 1,1,model,s=1)\n",
            "  File \"<ipython-input-107-13138c5b56da>\", line 8, in ctc_loss\n",
            "    ctc = T.sum(-T.log(p_seq),dim=0)\n",
            " (Triggered internally at ../torch/csrc/autograd/python_anomaly_mode.cpp:114.)\n",
            "  Variable._execution_engine.run_backward(  # Calls into the C++ engine to run the backward pass\n"
          ]
        },
        {
          "output_type": "error",
          "ename": "RuntimeError",
          "evalue": "ignored",
          "traceback": [
            "\u001b[0;31m---------------------------------------------------------------------------\u001b[0m",
            "\u001b[0;31mRuntimeError\u001b[0m                              Traceback (most recent call last)",
            "\u001b[0;32m<ipython-input-128-a61bfcc3ce6e>\u001b[0m in \u001b[0;36m<cell line: 5>\u001b[0;34m()\u001b[0m\n\u001b[1;32m     13\u001b[0m         \u001b[0mloss\u001b[0m \u001b[0;34m=\u001b[0m \u001b[0mctc_loss\u001b[0m\u001b[0;34m(\u001b[0m\u001b[0moutput\u001b[0m\u001b[0;34m,\u001b[0m \u001b[0mlabel\u001b[0m\u001b[0;34m,\u001b[0m \u001b[0;36m0.2\u001b[0m\u001b[0;34m*\u001b[0m\u001b[0mmath\u001b[0m\u001b[0;34m.\u001b[0m\u001b[0mpi\u001b[0m\u001b[0;34m,\u001b[0m \u001b[0;36m1\u001b[0m\u001b[0;34m,\u001b[0m\u001b[0;36m1\u001b[0m\u001b[0;34m,\u001b[0m\u001b[0mmodel\u001b[0m\u001b[0;34m,\u001b[0m\u001b[0ms\u001b[0m\u001b[0;34m=\u001b[0m\u001b[0;36m1\u001b[0m\u001b[0;34m)\u001b[0m\u001b[0;34m\u001b[0m\u001b[0;34m\u001b[0m\u001b[0m\n\u001b[1;32m     14\u001b[0m         \u001b[0moptimizer\u001b[0m\u001b[0;34m.\u001b[0m\u001b[0mzero_grad\u001b[0m\u001b[0;34m(\u001b[0m\u001b[0;34m)\u001b[0m\u001b[0;34m\u001b[0m\u001b[0;34m\u001b[0m\u001b[0m\n\u001b[0;32m---> 15\u001b[0;31m         \u001b[0mloss\u001b[0m\u001b[0;34m.\u001b[0m\u001b[0mbackward\u001b[0m\u001b[0;34m(\u001b[0m\u001b[0;34m)\u001b[0m\u001b[0;34m\u001b[0m\u001b[0;34m\u001b[0m\u001b[0m\n\u001b[0m\u001b[1;32m     16\u001b[0m         \u001b[0moptimizer\u001b[0m\u001b[0;34m.\u001b[0m\u001b[0mstep\u001b[0m\u001b[0;34m(\u001b[0m\u001b[0;34m)\u001b[0m\u001b[0;34m\u001b[0m\u001b[0;34m\u001b[0m\u001b[0m\n\u001b[1;32m     17\u001b[0m         \u001b[0m_\u001b[0m\u001b[0;34m,\u001b[0m \u001b[0mmax_index\u001b[0m \u001b[0;34m=\u001b[0m \u001b[0mtorch\u001b[0m\u001b[0;34m.\u001b[0m\u001b[0mmax\u001b[0m\u001b[0;34m(\u001b[0m\u001b[0moutput\u001b[0m\u001b[0;34m,\u001b[0m \u001b[0mdim\u001b[0m\u001b[0;34m=\u001b[0m\u001b[0;36m1\u001b[0m\u001b[0;34m)\u001b[0m  \u001b[0;31m# max_index.shape == torch.Size([32, 64])\u001b[0m\u001b[0;34m\u001b[0m\u001b[0;34m\u001b[0m\u001b[0m\n",
            "\u001b[0;32m/usr/local/lib/python3.10/dist-packages/torch/_tensor.py\u001b[0m in \u001b[0;36mbackward\u001b[0;34m(self, gradient, retain_graph, create_graph, inputs)\u001b[0m\n\u001b[1;32m    485\u001b[0m                 \u001b[0minputs\u001b[0m\u001b[0;34m=\u001b[0m\u001b[0minputs\u001b[0m\u001b[0;34m,\u001b[0m\u001b[0;34m\u001b[0m\u001b[0;34m\u001b[0m\u001b[0m\n\u001b[1;32m    486\u001b[0m             )\n\u001b[0;32m--> 487\u001b[0;31m         torch.autograd.backward(\n\u001b[0m\u001b[1;32m    488\u001b[0m             \u001b[0mself\u001b[0m\u001b[0;34m,\u001b[0m \u001b[0mgradient\u001b[0m\u001b[0;34m,\u001b[0m \u001b[0mretain_graph\u001b[0m\u001b[0;34m,\u001b[0m \u001b[0mcreate_graph\u001b[0m\u001b[0;34m,\u001b[0m \u001b[0minputs\u001b[0m\u001b[0;34m=\u001b[0m\u001b[0minputs\u001b[0m\u001b[0;34m\u001b[0m\u001b[0;34m\u001b[0m\u001b[0m\n\u001b[1;32m    489\u001b[0m         )\n",
            "\u001b[0;32m/usr/local/lib/python3.10/dist-packages/torch/autograd/__init__.py\u001b[0m in \u001b[0;36mbackward\u001b[0;34m(tensors, grad_tensors, retain_graph, create_graph, grad_variables, inputs)\u001b[0m\n\u001b[1;32m    198\u001b[0m     \u001b[0;31m# some Python versions print out the first line of a multi-line function\u001b[0m\u001b[0;34m\u001b[0m\u001b[0;34m\u001b[0m\u001b[0m\n\u001b[1;32m    199\u001b[0m     \u001b[0;31m# calls in the traceback and some print out the last line\u001b[0m\u001b[0;34m\u001b[0m\u001b[0;34m\u001b[0m\u001b[0m\n\u001b[0;32m--> 200\u001b[0;31m     Variable._execution_engine.run_backward(  # Calls into the C++ engine to run the backward pass\n\u001b[0m\u001b[1;32m    201\u001b[0m         \u001b[0mtensors\u001b[0m\u001b[0;34m,\u001b[0m \u001b[0mgrad_tensors_\u001b[0m\u001b[0;34m,\u001b[0m \u001b[0mretain_graph\u001b[0m\u001b[0;34m,\u001b[0m \u001b[0mcreate_graph\u001b[0m\u001b[0;34m,\u001b[0m \u001b[0minputs\u001b[0m\u001b[0;34m,\u001b[0m\u001b[0;34m\u001b[0m\u001b[0;34m\u001b[0m\u001b[0m\n\u001b[1;32m    202\u001b[0m         allow_unreachable=True, accumulate_grad=True)  # Calls into the C++ engine to run the backward pass\n",
            "\u001b[0;31mRuntimeError\u001b[0m: Function 'LogBackward0' returned nan values in its 0th output."
          ]
        }
      ]
    },
    {
      "cell_type": "markdown",
      "source": [
        "Training the LeNet++ model using RadialCTC loss"
      ],
      "metadata": {
        "id": "bCyqyJoZZh2Z"
      }
    },
    {
      "cell_type": "code",
      "source": [
        "model = LeNetpp().to(DEVICE)\n",
        "batch=1\n",
        "optimizer = torch.optim.Adagrad(model.parameters(), lr=0.1)\n",
        "epochs=30\n",
        "for _ in range(epochs):\n",
        "    # ============================================ TRAINING =====================================================\n",
        "    train_correct = 0\n",
        "    train_total = 0\n",
        "    for i in range(len(train_seq_image)):\n",
        "        seq = train_seq_image[:,i,:,:].reshape(41,1,32,32)\n",
        "        label = train_seq_label[:,i].reshape((1,4))\n",
        "        output= model(seq.cuda())\n",
        "        loss = radialctc_loss(output, label,0, 0.2*math.pi, 1,1,model,s=1)\n",
        "        optimizer.zero_grad()\n",
        "        loss.backward()\n",
        "        optimizer.step()\n",
        "        _, max_index = torch.max(output, dim=1)  # max_index.shape == torch.Size([32, 64])\n",
        "\n",
        "        raw_prediction = list(max_index.detach().cpu().numpy())  # len(raw_prediction) == 32\n",
        "        prediction = torch.IntTensor([c for c, _ in groupby(raw_prediction) if c != 10])\n",
        "        if len(prediction) == len(label) and torch.all(prediction.eq(label)):\n",
        "            train_correct += 1\n",
        "        train_total += 1\n",
        "    print('TRAINING. Correct: ', train_correct, '/', train_total, '=', train_correct / train_total,\" loss= \",loss)\n",
        "\n"
      ],
      "metadata": {
        "id": "juqTejR8Zg3Q",
        "colab": {
          "base_uri": "https://localhost:8080/",
          "height": 356
        },
        "outputId": "626d7b6c-4a90-40a2-e0e7-a1dc021a2a45"
      },
      "execution_count": 168,
      "outputs": [
        {
          "output_type": "error",
          "ename": "IndexError",
          "evalue": "ignored",
          "traceback": [
            "\u001b[0;31m---------------------------------------------------------------------------\u001b[0m",
            "\u001b[0;31mIndexError\u001b[0m                                Traceback (most recent call last)",
            "\u001b[0;32m<ipython-input-168-615bb629522e>\u001b[0m in \u001b[0;36m<cell line: 5>\u001b[0;34m()\u001b[0m\n\u001b[1;32m     11\u001b[0m         \u001b[0mlabel\u001b[0m \u001b[0;34m=\u001b[0m \u001b[0mtrain_seq_label\u001b[0m\u001b[0;34m[\u001b[0m\u001b[0;34m:\u001b[0m\u001b[0;34m,\u001b[0m\u001b[0mi\u001b[0m\u001b[0;34m]\u001b[0m\u001b[0;34m.\u001b[0m\u001b[0mreshape\u001b[0m\u001b[0;34m(\u001b[0m\u001b[0;34m(\u001b[0m\u001b[0;36m1\u001b[0m\u001b[0;34m,\u001b[0m\u001b[0;36m4\u001b[0m\u001b[0;34m)\u001b[0m\u001b[0;34m)\u001b[0m\u001b[0;34m\u001b[0m\u001b[0;34m\u001b[0m\u001b[0m\n\u001b[1;32m     12\u001b[0m         \u001b[0moutput\u001b[0m\u001b[0;34m=\u001b[0m \u001b[0mmodel\u001b[0m\u001b[0;34m(\u001b[0m\u001b[0mseq\u001b[0m\u001b[0;34m.\u001b[0m\u001b[0mcuda\u001b[0m\u001b[0;34m(\u001b[0m\u001b[0;34m)\u001b[0m\u001b[0;34m)\u001b[0m\u001b[0;34m\u001b[0m\u001b[0;34m\u001b[0m\u001b[0m\n\u001b[0;32m---> 13\u001b[0;31m         \u001b[0mloss\u001b[0m \u001b[0;34m=\u001b[0m \u001b[0mradialctc_loss\u001b[0m\u001b[0;34m(\u001b[0m\u001b[0moutput\u001b[0m\u001b[0;34m,\u001b[0m \u001b[0mlabel\u001b[0m\u001b[0;34m,\u001b[0m\u001b[0;36m0\u001b[0m\u001b[0;34m,\u001b[0m \u001b[0;36m0.2\u001b[0m\u001b[0;34m*\u001b[0m\u001b[0mmath\u001b[0m\u001b[0;34m.\u001b[0m\u001b[0mpi\u001b[0m\u001b[0;34m,\u001b[0m \u001b[0;36m1\u001b[0m\u001b[0;34m,\u001b[0m\u001b[0;36m1\u001b[0m\u001b[0;34m,\u001b[0m\u001b[0mmodel\u001b[0m\u001b[0;34m,\u001b[0m\u001b[0ms\u001b[0m\u001b[0;34m=\u001b[0m\u001b[0;36m1\u001b[0m\u001b[0;34m)\u001b[0m\u001b[0;34m\u001b[0m\u001b[0;34m\u001b[0m\u001b[0m\n\u001b[0m\u001b[1;32m     14\u001b[0m         \u001b[0moptimizer\u001b[0m\u001b[0;34m.\u001b[0m\u001b[0mzero_grad\u001b[0m\u001b[0;34m(\u001b[0m\u001b[0;34m)\u001b[0m\u001b[0;34m\u001b[0m\u001b[0;34m\u001b[0m\u001b[0m\n\u001b[1;32m     15\u001b[0m         \u001b[0mloss\u001b[0m\u001b[0;34m.\u001b[0m\u001b[0mbackward\u001b[0m\u001b[0;34m(\u001b[0m\u001b[0;34m)\u001b[0m\u001b[0;34m\u001b[0m\u001b[0;34m\u001b[0m\u001b[0m\n",
            "\u001b[0;32m<ipython-input-167-8d8cafc958d5>\u001b[0m in \u001b[0;36mradialctc_loss\u001b[0;34m(pred, token, n, beta, lamda1, lamda2, model, s)\u001b[0m\n\u001b[1;32m     26\u001b[0m \u001b[0;34m\u001b[0m\u001b[0m\n\u001b[1;32m     27\u001b[0m     \u001b[0;32melse\u001b[0m\u001b[0;34m:\u001b[0m\u001b[0;34m\u001b[0m\u001b[0;34m\u001b[0m\u001b[0m\n\u001b[0;32m---> 28\u001b[0;31m       \u001b[0mz_token\u001b[0m\u001b[0;34m=\u001b[0m\u001b[0mtorch\u001b[0m\u001b[0;34m.\u001b[0m\u001b[0mcat\u001b[0m\u001b[0;34m(\u001b[0m\u001b[0;34m(\u001b[0m\u001b[0mz_token\u001b[0m\u001b[0;34m,\u001b[0m\u001b[0mz\u001b[0m\u001b[0;34m[\u001b[0m\u001b[0;34m:\u001b[0m\u001b[0;34m,\u001b[0m\u001b[0mtoken\u001b[0m\u001b[0;34m[\u001b[0m\u001b[0mint\u001b[0m\u001b[0;34m(\u001b[0m\u001b[0mi\u001b[0m\u001b[0;34m/\u001b[0m\u001b[0;36m2\u001b[0m\u001b[0;34m)\u001b[0m\u001b[0;34m]\u001b[0m\u001b[0;34m]\u001b[0m\u001b[0;34m.\u001b[0m\u001b[0mclone\u001b[0m\u001b[0;34m(\u001b[0m\u001b[0;34m)\u001b[0m\u001b[0;34m)\u001b[0m\u001b[0;34m,\u001b[0m \u001b[0mdim\u001b[0m\u001b[0;34m=\u001b[0m\u001b[0;36m1\u001b[0m\u001b[0;34m)\u001b[0m\u001b[0;34m\u001b[0m\u001b[0;34m\u001b[0m\u001b[0m\n\u001b[0m\u001b[1;32m     29\u001b[0m   \u001b[0mc\u001b[0m\u001b[0;34m=\u001b[0m\u001b[0;36m0\u001b[0m\u001b[0;34m\u001b[0m\u001b[0;34m\u001b[0m\u001b[0m\n\u001b[1;32m     30\u001b[0m   \u001b[0mradial\u001b[0m \u001b[0;34m=\u001b[0m \u001b[0mT\u001b[0m\u001b[0;34m.\u001b[0m\u001b[0msum\u001b[0m\u001b[0;34m(\u001b[0m\u001b[0mT\u001b[0m\u001b[0;34m.\u001b[0m\u001b[0msum\u001b[0m\u001b[0;34m(\u001b[0m\u001b[0;34m-\u001b[0m\u001b[0mmath\u001b[0m\u001b[0;34m.\u001b[0m\u001b[0mlog\u001b[0m\u001b[0;34m(\u001b[0m\u001b[0mgamma\u001b[0m\u001b[0;34m)\u001b[0m\u001b[0;34m*\u001b[0m\u001b[0mz_token\u001b[0m\u001b[0;34m,\u001b[0m\u001b[0mdim\u001b[0m\u001b[0;34m=\u001b[0m\u001b[0;36m1\u001b[0m\u001b[0;34m)\u001b[0m\u001b[0;34m,\u001b[0m\u001b[0mdim\u001b[0m\u001b[0;34m=\u001b[0m\u001b[0;36m0\u001b[0m\u001b[0;34m)\u001b[0m\u001b[0;34m\u001b[0m\u001b[0;34m\u001b[0m\u001b[0m\n",
            "\u001b[0;31mIndexError\u001b[0m: Dimension out of range (expected to be in range of [-1, 0], but got 1)"
          ]
        }
      ]
    }
  ]
}